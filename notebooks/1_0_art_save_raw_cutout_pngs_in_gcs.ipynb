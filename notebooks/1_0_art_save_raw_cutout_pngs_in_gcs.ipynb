{
  "nbformat": 4,
  "nbformat_minor": 0,
  "metadata": {
    "colab": {
      "provenance": [],
      "collapsed_sections": [
        "387RjGInbccs"
      ]
    },
    "kernelspec": {
      "name": "python3",
      "display_name": "Python 3"
    },
    "language_info": {
      "name": "python"
    }
  },
  "cells": [
    {
      "cell_type": "markdown",
      "source": [
        "# Example for dict"
      ],
      "metadata": {
        "id": "387RjGInbccs"
      }
    },
    {
      "cell_type": "code",
      "source": [
        "import json\n",
        "\n",
        "example_embedding_dict = {\n",
        "    \"1234\" : { # hash from dat_id + URL\n",
        "      \"pat_id\" : \"ID\",\n",
        "      \"bucket_url\" : \"gs://\",\n",
        "      \"origin_ds\" : \"brats-upenn\",\n",
        "      \"diagnose\": \"glioblastom\",\n",
        "      \"embeddings\" : {\n",
        "          \"slice_id\" : 56,\n",
        "          \"RESNET50\" : {\n",
        "                \"emb_t1\" : [123,12,12,223],\n",
        "                \"emb_t1_contrast\" : [123,12,12,223],\n",
        "                \"emb_t2\" : [123,12,12,223],\n",
        "                \"emb_t2_flair\" : [123,12,12,223],\n",
        "                \"seg_emb_t1\" : [123,12,12,223],\n",
        "                \"seg_emb_t1_contrast\" : [123,12,12,223],\n",
        "                \"seg_emb_t2\" : [123,12,12,223],\n",
        "                \"seg_emb_t2_flair\" : [123,12,12,223],\n",
        "              },\n",
        "          \"VIT\" : {\n",
        "                \"emb_t1\" : [123,12,12,223],\n",
        "                \"emb_t1_contrast\" : [123,12,12,223],\n",
        "                \"emb_t2\" : [123,12,12,223],\n",
        "                \"emb_t2_flair\" : [123,12,12,223],\n",
        "                \"seg_emb_t1\" : [123,12,12,223],\n",
        "                \"seg_emb_t1_contrast\" : [123,12,12,223],\n",
        "                \"seg_emb_t2\" : [123,12,12,223],\n",
        "                \"seg_emb_t2_flair\" : [123,12,12,223],\n",
        "            }\n",
        "        }\n",
        "    },\n",
        "    \"321\" : { # hash from dat_id + URL\n",
        "      \"pat_id\" : \"ID\",\n",
        "      \"bucket_url\" : \"gs://\",\n",
        "      \"origin_ds\" : \"brats-upenn\",\n",
        "      \"diagnose\": \"glioblastom\",\n",
        "      \"embeddings\" : {\n",
        "          \"slice_id\" : 56,\n",
        "          \"RESNET50\" : {\n",
        "                \"emb_t1\" : [123,12,12,223],\n",
        "                \"emb_t1_contrast\" : [123,12,12,223],\n",
        "                \"emb_t2\" : [123,12,12,223],\n",
        "                \"emb_flair\" : [123,12,12,223],\n",
        "                \"seg_emb_t1\" : [123,12,12,223],\n",
        "                \"seg_emb_t1_contrast\" : [123,12,12,223],\n",
        "                \"seg_emb_t2\" : [123,12,12,223],\n",
        "                \"seg_emb_t2_flair\" : [123,12,12,223],\n",
        "              },\n",
        "          \"VIT\" : {\n",
        "                \"emb_t1\" : [123,12,12,223],\n",
        "                \"emb_t1_contrast\" : [123,12,12,223],\n",
        "                \"emb_t2\" : [123,12,12,223],\n",
        "                \"emb_t2_flair\" : [123,12,12,223],\n",
        "                \"seg_emb_t1\" : [123,12,12,223],\n",
        "                \"seg_emb_t1_contrast\" : [123,12,12,223],\n",
        "                \"seg_emb_t2\" : [123,12,12,223],\n",
        "                \"seg_emb_t2_flair\" : [123,12,12,223],\n",
        "            }\n",
        "          }\n",
        "    }\n",
        "}"
      ],
      "metadata": {
        "id": "sYKsLAYYQ6cW"
      },
      "execution_count": 1,
      "outputs": []
    },
    {
      "cell_type": "code",
      "source": [],
      "metadata": {
        "id": "unHO__UZWGQL"
      },
      "execution_count": 1,
      "outputs": []
    },
    {
      "cell_type": "markdown",
      "source": [
        "# pip install and authenticate"
      ],
      "metadata": {
        "id": "NBlOx9mEHOp6"
      }
    },
    {
      "cell_type": "code",
      "source": [
        "# Install Dependencies.\n",
        "!echo \"deb https://packages.cloud.google.com/apt gcsfuse-`lsb_release -c -s` main\" | sudo tee /etc/apt/sources.list.d/gcsfuse.list\n",
        "!curl https://packages.cloud.google.com/apt/doc/apt-key.gpg | sudo apt-key add -\n",
        "!apt -qq update && apt -qq install gcsfuse\n",
        "\n",
        "!pip install matplotlib transformers nibabel -q\n",
        "\n",
        "# Authenticate.\n",
        "from google.colab import auth\n",
        "auth.authenticate_user()"
      ],
      "metadata": {
        "colab": {
          "base_uri": "https://localhost:8080/"
        },
        "id": "YECkGx2bHVAo",
        "outputId": "aca2274b-5f20-4bb9-c1dd-17ce2cee06ca"
      },
      "execution_count": 44,
      "outputs": [
        {
          "output_type": "stream",
          "name": "stdout",
          "text": [
            "deb https://packages.cloud.google.com/apt gcsfuse-jammy main\n",
            "  % Total    % Received % Xferd  Average Speed   Time    Time     Time  Current\n",
            "                                 Dload  Upload   Total   Spent    Left  Speed\n",
            "  0     0    0     0    0     0      0      0 --:--:-- --:--:-- --:--:--     0Warning: apt-key is deprecated. Manage keyring files in trusted.gpg.d instead (see apt-key(8)).\n",
            "100  2659  100  2659    0     0  16863      0 --:--:-- --:--:-- --:--:-- 16829\n",
            "OK\n",
            "19 packages can be upgraded. Run 'apt list --upgradable' to see them.\n",
            "\u001b[1;33mW: \u001b[0mhttps://packages.cloud.google.com/apt/dists/gcsfuse-jammy/InRelease: Key is stored in legacy trusted.gpg keyring (/etc/apt/trusted.gpg), see the DEPRECATION section in apt-key(8) for details.\u001b[0m\n",
            "gcsfuse is already the newest version (1.2.1).\n",
            "0 upgraded, 0 newly installed, 0 to remove and 19 not upgraded.\n"
          ]
        }
      ]
    },
    {
      "cell_type": "code",
      "source": [
        "# Mount a Cloud Storage bucket or location, without the gs:// prefix.\n",
        "mount_path = \"brats-image-files-eu\"  # or a location like \"my-bucket/path/to/mount\"\n",
        "local_path = f\"/mnt/gs/{mount_path}\"\n",
        "\n",
        "!mkdir -p {local_path}\n",
        "!gcsfuse --implicit-dirs {mount_path} {local_path}"
      ],
      "metadata": {
        "colab": {
          "base_uri": "https://localhost:8080/"
        },
        "id": "h7eOtSNAqDom",
        "outputId": "c5fdd486-37e9-445c-f8da-6405754dc241"
      },
      "execution_count": 3,
      "outputs": [
        {
          "output_type": "stream",
          "name": "stdout",
          "text": [
            "{\"time\":\"30/11/2023 04:40:50.754602\",\"severity\":\"INFO\",\"msg\":\"Start gcsfuse/1.2.1 (Go version go1.21.3) for app \\\"\\\" using mount point: /mnt/gs/brats-image-files-eu\\n\"}\n"
          ]
        }
      ]
    },
    {
      "cell_type": "code",
      "source": [
        "local_path"
      ],
      "metadata": {
        "colab": {
          "base_uri": "https://localhost:8080/",
          "height": 35
        },
        "id": "JHD68hICqMXZ",
        "outputId": "6f1a5f97-e7b1-4de9-8fd4-703119b124df"
      },
      "execution_count": 4,
      "outputs": [
        {
          "output_type": "execute_result",
          "data": {
            "text/plain": [
              "'/mnt/gs/brats-image-files-eu'"
            ],
            "application/vnd.google.colaboratory.intrinsic+json": {
              "type": "string"
            }
          },
          "metadata": {},
          "execution_count": 4
        }
      ]
    },
    {
      "cell_type": "code",
      "source": [
        "from pathlib import Path\n",
        "import os\n",
        "def find_scan_and_segm_files_gcsfuse(local_folder, dataset_name, patient_id):\n",
        "    '''\n",
        "    Finds the scan and segmentation files for a given scan type in a GCS bucket\n",
        "\n",
        "    Args:\n",
        "        bucket_path (string): Path to the GCS bucket (e.g., 'gs://my-bucket/')\n",
        "        scan_type (string): Type of scan. Can be 'flair', 't1', 't1gd', or 't2'\n",
        "    Returns:\n",
        "        scan_path (string): Path to the scan file in GCS\n",
        "        seg_path (string): Path to the segmentation file in GCS\n",
        "    '''\n",
        "\n",
        "    #import pdb; pdb.set_trace()\n",
        "\n",
        "    # Define scan path keys\n",
        "    scan_paths = {\n",
        "        't1': patient_id + '-t1n.nii.gz',   # Corresponds to 't1' in UPenn and 't1n' in Brats\n",
        "        't1c': patient_id + '-t1c.nii.gz',  # Corresponds to 't1gd' in UPenn and 't1c' in Brats\n",
        "        't2': patient_id + '-t2w.nii.gz',   # Corresponds to 't2' in UPenn and 't2w' in Brats\n",
        "        'flair': patient_id + '-t2f.nii.gz',  # Corresponds to 'flair' in UPenn and 't2f' in Brats\n",
        "        'seg': patient_id + '-seg.nii.gz'   # Segmentation file\n",
        "    }\n",
        "\n",
        "    patient_path = Path(local_folder) / dataset_name / patient_id\n",
        "\n",
        "    files = os.listdir(patient_path)\n",
        "\n",
        "    for key, path in scan_paths.items():\n",
        "      scan_paths[key] =  Path(local_folder)/ dataset_name / patient_id / path\n",
        "\n",
        "    return patient_id, scan_paths\n",
        "\n",
        "patient_id, scan_paths = find_scan_and_segm_files_gcsfuse(local_path, 'ASNR-MICCAI-BraTS2023-GLI-Challenge-TrainingData', 'BraTS-GLI-00000-000')"
      ],
      "metadata": {
        "id": "axLCwOh3heOp"
      },
      "execution_count": 5,
      "outputs": []
    },
    {
      "cell_type": "code",
      "source": [
        "scan_paths['seg'], scan_paths['t1']"
      ],
      "metadata": {
        "colab": {
          "base_uri": "https://localhost:8080/"
        },
        "id": "fm5NLhb2vdoF",
        "outputId": "22d728bd-c755-42c6-f4ef-5d598324f524"
      },
      "execution_count": 6,
      "outputs": [
        {
          "output_type": "execute_result",
          "data": {
            "text/plain": [
              "(PosixPath('/mnt/gs/brats-image-files-eu/ASNR-MICCAI-BraTS2023-GLI-Challenge-TrainingData/BraTS-GLI-00000-000/BraTS-GLI-00000-000-seg.nii.gz'),\n",
              " PosixPath('/mnt/gs/brats-image-files-eu/ASNR-MICCAI-BraTS2023-GLI-Challenge-TrainingData/BraTS-GLI-00000-000/BraTS-GLI-00000-000-t1n.nii.gz'))"
            ]
          },
          "metadata": {},
          "execution_count": 6
        }
      ]
    },
    {
      "cell_type": "code",
      "source": [
        "import nibabel as nib\n",
        "import matplotlib.pyplot as plt\n",
        "import numpy as np\n",
        "\n",
        "def read_nii(file_name):\n",
        "    '''\n",
        "    Reads a NIfTI file and returns the data as a numpy array\n",
        "    '''\n",
        "\n",
        "    # reads the NIfTI file\n",
        "    nii_file = nib.load(file_name)\n",
        "\n",
        "    # Access the data\n",
        "    data = nii_file.get_fdata()\n",
        "    return data\n",
        "\n",
        "\n",
        "def normalize_nii_for_pil(array):\n",
        "  # Normalize the array to 0-255\n",
        "  array_normalized = (array - array.min()) / (array.max() - array.min()) * 255\n",
        "\n",
        "  # Convert to uint8\n",
        "  array_uint8 = array_normalized.astype(np.uint8)\n",
        "\n",
        "  return array_uint8"
      ],
      "metadata": {
        "id": "Nqhp6hWMiinf"
      },
      "execution_count": 10,
      "outputs": []
    },
    {
      "cell_type": "code",
      "source": [
        "def find_slice_with_max_mask_area(mask_data):\n",
        "        '''\n",
        "        Function to display the slice with the largest affected\n",
        "        area of the original MRI scan together with slice of segmentation mask\n",
        "\n",
        "        Args:\n",
        "            mask_data (numpy array): segmentation mask (already loaded from NIfTI file)\n",
        "        Returns:\n",
        "            None\n",
        "        '''\n",
        "\n",
        "        # Initialize variables to track the largest slice\n",
        "        max_non_black_count = 0\n",
        "        max_slice_index = 0\n",
        "\n",
        "        # Iterate through each slice in the mask\n",
        "        for i in range(mask_data.shape[2]):\n",
        "            # Count non-black (non-zero) pixels in the slice\n",
        "            non_black_count = np.count_nonzero(mask_data[:, :, i])\n",
        "\n",
        "            # Update max count and slice index if current slice has more non-black pixels\n",
        "            if non_black_count > max_non_black_count:\n",
        "                max_non_black_count = non_black_count\n",
        "                max_slice_index = i\n",
        "\n",
        "        ## Get bounding-box from mask\n",
        "        mask_array = mask_data[:,:,max_slice_index]\n",
        "        # Identifying the indices of non-zero elements\n",
        "        non_zero_indices = np.argwhere(mask_array != 0)\n",
        "\n",
        "        return max_slice_index"
      ],
      "metadata": {
        "id": "6Js6GXMy8j1R"
      },
      "execution_count": 11,
      "outputs": []
    },
    {
      "cell_type": "markdown",
      "source": [
        "```python\n",
        "# UNUSED\n",
        "from PIL import Image\n",
        "import numpy as np\n",
        "import pandas as pd\n",
        "from torchvision import transforms\n",
        "\n",
        "# Adjust image range between 0 and max value for 8 bits\n",
        "def preprocess_image(best_slice):\n",
        "\n",
        "  # Normalize to 0-255\n",
        "  min_val = best_slice.min()\n",
        "  max_val = best_slice.max()\n",
        "  image_array = (best_slice - min_val) / (max_val - min_val) * 255\n",
        "  image_array = np.uint8(image_array)\n",
        "\n",
        "  # Make Greyscale to RGB\n",
        "  image_array = np.stack((image_array,) * 3, axis=-1)\n",
        "  image = Image.fromarray(image_array)\n",
        "\n",
        "  # Turn into tensor and add one dimension for \"batch-size\"\n",
        "  transform = transforms.ToTensor()\n",
        "  image_tensor = transform(image).unsqueeze(0) # Shape: 1,x,x,x\n",
        "\n",
        "  return image, image_tensor\n",
        "```\n"
      ],
      "metadata": {
        "id": "0QU-GgRlkcps"
      }
    },
    {
      "cell_type": "code",
      "source": [
        "t1_data = normalize_nii_for_pil(read_nii(scan_paths['t1']))\n",
        "\n",
        "t2_data = normalize_nii_for_pil(read_nii(scan_paths['t2']))\n",
        "\n",
        "flair_data = normalize_nii_for_pil(read_nii(scan_paths['flair']))\n",
        "\n",
        "t1c_data = normalize_nii_for_pil(read_nii(scan_paths['t1c']))\n",
        "\n",
        "seg_data = (read_nii(scan_paths['seg']) >=1).astype(np.int8)"
      ],
      "metadata": {
        "id": "1A2-HUuxyy7y"
      },
      "execution_count": 13,
      "outputs": []
    },
    {
      "cell_type": "code",
      "source": [
        "len(os.listdir('/mnt/gs/brats-image-files-eu/ASNR-MICCAI-BraTS2023-GLI-Challenge-TrainingData'))"
      ],
      "metadata": {
        "colab": {
          "base_uri": "https://localhost:8080/"
        },
        "id": "CKF2xgpX5QCJ",
        "outputId": "34419cbf-6aaf-4817-c66b-a4e6d1f0602c"
      },
      "execution_count": 14,
      "outputs": [
        {
          "output_type": "execute_result",
          "data": {
            "text/plain": [
              "1251"
            ]
          },
          "metadata": {},
          "execution_count": 14
        }
      ]
    },
    {
      "cell_type": "code",
      "source": [
        "len(os.listdir('/mnt/gs/brats-image-files-eu/ASNR-MICCAI-BraTS2023-MET-Challenge-TrainingData'))"
      ],
      "metadata": {
        "colab": {
          "base_uri": "https://localhost:8080/"
        },
        "id": "GiCqGYSO5ZRi",
        "outputId": "91b71c4d-44a7-4dc4-e763-c323f0d95dc0"
      },
      "execution_count": 15,
      "outputs": [
        {
          "output_type": "execute_result",
          "data": {
            "text/plain": [
              "165"
            ]
          },
          "metadata": {},
          "execution_count": 15
        }
      ]
    },
    {
      "cell_type": "code",
      "source": [
        "len(os.listdir('/mnt/gs/brats-image-files-eu/BraTS-MEN-Train'))"
      ],
      "metadata": {
        "colab": {
          "base_uri": "https://localhost:8080/"
        },
        "id": "ZTBdJVFp5gmr",
        "outputId": "de944a8b-71ca-49c2-aea7-93b4795a33e7"
      },
      "execution_count": 16,
      "outputs": [
        {
          "output_type": "execute_result",
          "data": {
            "text/plain": [
              "1000"
            ]
          },
          "metadata": {},
          "execution_count": 16
        }
      ]
    },
    {
      "cell_type": "code",
      "source": [
        "slice_index = find_slice_with_max_mask_area(seg_data)\n",
        "cutout_t1 = t1_data[:, :, slice_index] * seg_data[:, :, slice_index]\n",
        "plt.imshow(cutout_t1, cmap='gray');"
      ],
      "metadata": {
        "colab": {
          "base_uri": "https://localhost:8080/",
          "height": 435
        },
        "id": "b2XhWDq6_S5-",
        "outputId": "2fcccda4-6eab-46aa-caf4-1fffef28cb9d"
      },
      "execution_count": 17,
      "outputs": [
        {
          "output_type": "display_data",
          "data": {
            "text/plain": [
              "<Figure size 640x480 with 1 Axes>"
            ],
            "image/png": "[encoded data removed]"
          },
          "metadata": {}
        }
      ]
    },
    {
      "cell_type": "code",
      "source": [
        "slice_index = find_slice_with_max_mask_area(seg_data)\n",
        "cutout_t1c = t1c_data[:, :, slice_index] * seg_data[:, :, slice_index]\n",
        "plt.imshow(cutout_t1c, cmap='gray');"
      ],
      "metadata": {
        "colab": {
          "base_uri": "https://localhost:8080/",
          "height": 435
        },
        "id": "AwlNOwOV_jfc",
        "outputId": "9805ee9c-3d87-4c7d-9e53-357261f86983"
      },
      "execution_count": 18,
      "outputs": [
        {
          "output_type": "display_data",
          "data": {
            "text/plain": [
              "<Figure size 640x480 with 1 Axes>"
            ],
            "image/png": "[encoded data removed]"
          },
          "metadata": {}
        }
      ]
    },
    {
      "cell_type": "code",
      "source": [
        "slice_index = find_slice_with_max_mask_area(seg_data)\n",
        "cutout_flair = flair_data[:, :, slice_index] * seg_data[:, :, slice_index]\n",
        "plt.imshow(cutout_flair, cmap='gray');"
      ],
      "metadata": {
        "colab": {
          "base_uri": "https://localhost:8080/",
          "height": 435
        },
        "id": "CyMaKFxr_niF",
        "outputId": "c432079c-793b-4a31-c131-2dae994f0bbc"
      },
      "execution_count": 19,
      "outputs": [
        {
          "output_type": "display_data",
          "data": {
            "text/plain": [
              "<Figure size 640x480 with 1 Axes>"
            ],
            "image/png": "[encoded data removed]"
          },
          "metadata": {}
        }
      ]
    },
    {
      "cell_type": "code",
      "source": [
        "slice_index = find_slice_with_max_mask_area(seg_data)\n",
        "cutout_t2 = t2_data[:, :, slice_index] * seg_data[:, :, slice_index]\n",
        "plt.imshow(cutout_t2, cmap='gray');"
      ],
      "metadata": {
        "colab": {
          "base_uri": "https://localhost:8080/",
          "height": 435
        },
        "id": "G7spDftixgyd",
        "outputId": "c0f3fb05-2b2c-4f9e-aa51-252c66fc9b20"
      },
      "execution_count": 20,
      "outputs": [
        {
          "output_type": "display_data",
          "data": {
            "text/plain": [
              "<Figure size 640x480 with 1 Axes>"
            ],
            "image/png": "[encoded data removed]"
          },
          "metadata": {}
        }
      ]
    },
    {
      "cell_type": "markdown",
      "source": [
        "## Save PNG files"
      ],
      "metadata": {
        "id": "pRWfrfyJGZ3P"
      }
    },
    {
      "cell_type": "code",
      "source": [
        "import os\n",
        "parent_folder = Path('/mnt/gs/brats-image-files-eu')\n",
        "\n",
        "dataset_folders = os.listdir(parent_folder)"
      ],
      "metadata": {
        "id": "RY5JGSDOGcBB"
      },
      "execution_count": 24,
      "outputs": []
    },
    {
      "cell_type": "code",
      "source": [
        "Image.fromarray(cutout_t1c).convert('RGB')"
      ],
      "metadata": {
        "colab": {
          "base_uri": "https://localhost:8080/",
          "height": 257
        },
        "id": "64EbiufeIOOQ",
        "outputId": "a4cec0f3-d543-450c-f703-d6180f262173"
      },
      "execution_count": 31,
      "outputs": [
        {
          "output_type": "execute_result",
          "data": {
            "text/plain": [
              "<PIL.Image.Image image mode=RGB size=240x240>"
            ],
            "image/png": "[encoded data removed]"
          },
          "metadata": {},
          "execution_count": 31
        }
      ]
    },
    {
      "cell_type": "code",
      "source": [
        "modalities = ['t1', 't2', 'flair', 't1c']\n",
        "patient_folders = os.listdir(parent_folder / dataset_folders[0])\n",
        "filename = Path(patient_folders[0]) / f'{patient_folders[0]}_raw_cutout_{modalities[0]}.png'\n",
        "parent_folder / dataset_folders[0] / patient_folders[0] / 'png' / filename"
      ],
      "metadata": {
        "colab": {
          "base_uri": "https://localhost:8080/"
        },
        "id": "mxfa-Q8OHlcO",
        "outputId": "d8a542c8-3b48-45e1-d514-7dddb6a94bc3"
      },
      "execution_count": 36,
      "outputs": [
        {
          "output_type": "execute_result",
          "data": {
            "text/plain": [
              "PosixPath('/mnt/gs/brats-image-files-eu/ASNR-MICCAI-BraTS2023-GLI-Challenge-TrainingData/BraTS-GLI-00000-000/png/BraTS-GLI-00000-000/BraTS-GLI-00000-000_raw_cutout_t1.png')"
            ]
          },
          "metadata": {},
          "execution_count": 36
        }
      ]
    },
    {
      "cell_type": "code",
      "source": [
        "def get_cutout(data, mask, slice_number):\n",
        "  return data[:, :, slice_number] * mask[:, :, slice_number]\n",
        "\n",
        "def png_cutout_save_path(patient_name, modality):\n",
        "  return f'{patient_name}_{modality}_raw_cutout.png'\n",
        "\n",
        "for dataset_folder in os.listdir(parent_folder):\n",
        "  for patient_folder in os.listdir(parent_folder / dataset_folder):\n",
        "    for patient_files in os.listdir(parent_folder / dataset_folder / patient_folder):\n",
        "        full_path_patient_folder = parent_folder / dataset_folder / patient_folder\n",
        "        seg_filename = f'{str(patient_folder)}-seg.nii.gz'\n",
        "        t1_filename = f'{str(patient_folder)}-t1n.nii.gz'\n",
        "        t1_gad_filename = f'{str(patient_folder)}-t1c.nii.gz'\n",
        "        t2_filename = f'{str(patient_folder)}-t2w.nii.gz'\n",
        "        flair_filename = f'{str(patient_folder)}-t2f.nii.gz'\n",
        "\n",
        "        seg_data =    (read_nii(full_path_patient_folder / seg_filename) >=1).astype(np.uint8)\n",
        "        seg_data_w_levels =    read_nii(full_path_patient_folder / seg_filename).astype(np.uint8)\n",
        "\n",
        "\n",
        "        t1_data =     normalize_nii_for_pil(read_nii(full_path_patient_folder / t1_filename))\n",
        "        t2_data =     normalize_nii_for_pil(read_nii(full_path_patient_folder / t2_filename))\n",
        "        t1_gad_data = normalize_nii_for_pil(read_nii(full_path_patient_folder / t1_gad_filename))\n",
        "        flair_data =  normalize_nii_for_pil(read_nii(full_path_patient_folder / flair_filename))\n",
        "\n",
        "        slice_index = find_slice_with_max_mask_area(seg_data)\n",
        "\n",
        "        flair_cutout = Image.fromarray(get_cutout(flair_data, seg_data, slice_index)).convert('RGB')\n",
        "        t1_cutout = Image.fromarray(get_cutout(t1_data, seg_data, slice_index)).convert('RGB')\n",
        "        t2_cutout = Image.fromarray(get_cutout(t2_data, seg_data, slice_index)).convert('RGB')\n",
        "        t1_gad_cutout = Image.fromarray(get_cutout(t1_gad_data, seg_data, slice_index)).convert('RGB')\n",
        "\n",
        "        png_save_path = full_path_patient_folder / 'png'\n",
        "\n",
        "        flair_cutout.save(png_save_path / png_cutout_save_path(patient_folder, 'flair'))\n",
        "        t1_cutout.save(png_save_path / png_cutout_save_path(patient_folder, 't1'))\n",
        "        t1_gad_cutout.save(png_save_path / png_cutout_save_path(patient_folder, 't1c'))\n",
        "        t2_cutout.save(png_save_path / png_cutout_save_path(patient_folder, 't2'))\n"
      ],
      "metadata": {
        "id": "VPNPI_BhMyTZ"
      },
      "execution_count": null,
      "outputs": []
    },
    {
      "cell_type": "code",
      "source": [
        "png_save_path / png_cutout_save_path(patient_folder, 'flair')"
      ],
      "metadata": {
        "colab": {
          "base_uri": "https://localhost:8080/"
        },
        "id": "HeDVMgX9X7N1",
        "outputId": "682e40a5-5ff1-4348-d92c-546b91aed848"
      },
      "execution_count": 72,
      "outputs": [
        {
          "output_type": "execute_result",
          "data": {
            "text/plain": [
              "PosixPath('/mnt/gs/brats-image-files-eu/ASNR-MICCAI-BraTS2023-GLI-Challenge-TrainingData/BraTS-GLI-00000-000/png/BraTS-GLI-00000-000_flair_raw_cutout.png')"
            ]
          },
          "metadata": {},
          "execution_count": 72
        }
      ]
    },
    {
      "cell_type": "code",
      "source": [
        "flair_cutout"
      ],
      "metadata": {
        "colab": {
          "base_uri": "https://localhost:8080/",
          "height": 257
        },
        "id": "Nj4Z9B3iTyRU",
        "outputId": "33d8a819-8563-457e-ca02-bb9b94f4638b"
      },
      "execution_count": 66,
      "outputs": [
        {
          "output_type": "execute_result",
          "data": {
            "text/plain": [
              "<PIL.Image.Image image mode=RGB size=240x240>"
            ],
            "image/png": "[encoded data removed]"
          },
          "metadata": {},
          "execution_count": 66
        }
      ]
    },
    {
      "cell_type": "code",
      "source": [
        "t1_cutout"
      ],
      "metadata": {
        "colab": {
          "base_uri": "https://localhost:8080/",
          "height": 257
        },
        "id": "NK8G5eEoTeCW",
        "outputId": "d2b11db0-f2d1-485e-cb84-05e64de4512c"
      },
      "execution_count": 67,
      "outputs": [
        {
          "output_type": "execute_result",
          "data": {
            "text/plain": [
              "<PIL.Image.Image image mode=RGB size=240x240>"
            ],
            "image/png": "[encoded data removed]"
          },
          "metadata": {},
          "execution_count": 67
        }
      ]
    },
    {
      "cell_type": "code",
      "source": [
        "t2_cutout"
      ],
      "metadata": {
        "colab": {
          "base_uri": "https://localhost:8080/",
          "height": 257
        },
        "id": "elJKQZGpTjpR",
        "outputId": "00e9e80c-ac0c-4880-c88f-41478338ce11"
      },
      "execution_count": 68,
      "outputs": [
        {
          "output_type": "execute_result",
          "data": {
            "text/plain": [
              "<PIL.Image.Image image mode=RGB size=240x240>"
            ],
            "image/png": "[encoded data removed]"
          },
          "metadata": {},
          "execution_count": 68
        }
      ]
    },
    {
      "cell_type": "code",
      "source": [
        "t1_gad_cutout"
      ],
      "metadata": {
        "colab": {
          "base_uri": "https://localhost:8080/",
          "height": 257
        },
        "id": "OSIJSReXWSrB",
        "outputId": "e1401ee7-9629-418f-f8c5-abeddf153a89"
      },
      "execution_count": 69,
      "outputs": [
        {
          "output_type": "execute_result",
          "data": {
            "text/plain": [
              "<PIL.Image.Image image mode=RGB size=240x240>"
            ],
            "image/png": "[encoded data removed]"
          },
          "metadata": {},
          "execution_count": 69
        }
      ]
    }
  ]
}