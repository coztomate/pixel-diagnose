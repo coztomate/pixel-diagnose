{
  "nbformat": 4,
  "nbformat_minor": 0,
  "metadata": {
    "colab": {
      "provenance": [],
      "collapsed_sections": [
        "387RjGInbccs"
      ]
    },
    "kernelspec": {
      "name": "python3",
      "display_name": "Python 3"
    },
    "language_info": {
      "name": "python"
    }
  },
  "cells": [
    {
      "cell_type": "code",
      "source": [],
      "metadata": {
        "id": "unHO__UZWGQL"
      },
      "execution_count": 40,
      "outputs": []
    },
    {
      "cell_type": "markdown",
      "source": [
        "# pip install and authenticate"
      ],
      "metadata": {
        "id": "NBlOx9mEHOp6"
      }
    },
    {
      "cell_type": "code",
      "source": [
        "# Install Dependencies.\n",
        "!echo \"deb https://packages.cloud.google.com/apt gcsfuse-`lsb_release -c -s` main\" | sudo tee /etc/apt/sources.list.d/gcsfuse.list\n",
        "!curl https://packages.cloud.google.com/apt/doc/apt-key.gpg | sudo apt-key add -\n",
        "!apt -qq update && apt -qq install gcsfuse\n",
        "\n",
        "!pip install matplotlib nibabel -q\n",
        "\n",
        "# Authenticate.\n",
        "from google.colab import auth\n",
        "auth.authenticate_user()"
      ],
      "metadata": {
        "colab": {
          "base_uri": "https://localhost:8080/"
        },
        "id": "YECkGx2bHVAo",
        "outputId": "184af417-5082-4c4f-b5a8-9912eec07597"
      },
      "execution_count": 41,
      "outputs": [
        {
          "output_type": "stream",
          "name": "stdout",
          "text": [
            "deb https://packages.cloud.google.com/apt gcsfuse-jammy main\n",
            "  % Total    % Received % Xferd  Average Speed   Time    Time     Time  Current\n",
            "                                 Dload  Upload   Total   Spent    Left  Speed\n",
            "100  2659  100  2659    0     0  11027      0 --:--:-- --:--:-- --:--:-- 11079\n",
            "Warning: apt-key is deprecated. Manage keyring files in trusted.gpg.d instead (see apt-key(8)).\n",
            "OK\n",
            "17 packages can be upgraded. Run 'apt list --upgradable' to see them.\n",
            "\u001b[1;33mW: \u001b[0mhttps://packages.cloud.google.com/apt/dists/gcsfuse-jammy/InRelease: Key is stored in legacy trusted.gpg keyring (/etc/apt/trusted.gpg), see the DEPRECATION section in apt-key(8) for details.\u001b[0m\n",
            "gcsfuse is already the newest version (1.2.1).\n",
            "0 upgraded, 0 newly installed, 0 to remove and 17 not upgraded.\n"
          ]
        }
      ]
    },
    {
      "cell_type": "code",
      "source": [
        "# Mount a Cloud Storage bucket or location, without the gs:// prefix.\n",
        "mount_path = \"brats-image-files-eu\"  # or a location like \"my-bucket/path/to/mount\"\n",
        "local_path = f\"/mnt/gs/{mount_path}\"\n",
        "\n",
        "!mkdir -p {local_path}\n",
        "!gcsfuse --implicit-dirs {mount_path} {local_path}"
      ],
      "metadata": {
        "colab": {
          "base_uri": "https://localhost:8080/"
        },
        "id": "h7eOtSNAqDom",
        "outputId": "9c6b2794-707a-42c3-a52e-68a349442d0b"
      },
      "execution_count": 42,
      "outputs": [
        {
          "output_type": "stream",
          "name": "stdout",
          "text": [
            "{\"time\":\"30/11/2023 07:23:56.537653\",\"severity\":\"INFO\",\"msg\":\"Start gcsfuse/1.2.1 (Go version go1.21.3) for app \\\"\\\" using mount point: /mnt/gs/brats-image-files-eu\\n\"}\n"
          ]
        }
      ]
    },
    {
      "cell_type": "code",
      "source": [
        "# Mount a Cloud Storage bucket or location, without the gs:// prefix.\n",
        "mount_path = \"picture_embeddings/imagenet_resnets\"  # or a location like \"my-bucket/path/to/mount\"\n",
        "local_path = f\"/mnt/gs/{mount_path}\"\n",
        "\n",
        "!mkdir -p {local_path}\n",
        "!gcsfuse --implicit-dirs {mount_path} {local_path}"
      ],
      "metadata": {
        "colab": {
          "base_uri": "https://localhost:8080/"
        },
        "id": "SAzvpyafhlQS",
        "outputId": "a8efbe4b-54ef-413d-b0c4-e55f5c44255e"
      },
      "execution_count": 43,
      "outputs": [
        {
          "output_type": "stream",
          "name": "stdout",
          "text": [
            "{\"time\":\"30/11/2023 07:23:58.775562\",\"severity\":\"INFO\",\"msg\":\"Start gcsfuse/1.2.1 (Go version go1.21.3) for app \\\"\\\" using mount point: /mnt/gs/picture_embeddings/imagenet_resnets\\n\"}\n",
            "daemonize.Run: readFromProcess: sub-process: mountWithArgs: mountWithStorageHandle: fs.NewServer: create file system: SetUpBucket: Error in iterating through objects: storage: bucket doesn't exist\n"
          ]
        }
      ]
    },
    {
      "cell_type": "code",
      "source": [
        "local_path"
      ],
      "metadata": {
        "colab": {
          "base_uri": "https://localhost:8080/",
          "height": 35
        },
        "id": "JHD68hICqMXZ",
        "outputId": "0ce5a204-755a-4889-8413-7c0fc7a9798c"
      },
      "execution_count": 44,
      "outputs": [
        {
          "output_type": "execute_result",
          "data": {
            "text/plain": [
              "'/mnt/gs/picture_embeddings/imagenet_resnets'"
            ],
            "application/vnd.google.colaboratory.intrinsic+json": {
              "type": "string"
            }
          },
          "metadata": {},
          "execution_count": 44
        }
      ]
    },
    {
      "cell_type": "code",
      "source": [
        "import nibabel as nib\n",
        "import matplotlib.pyplot as plt\n",
        "import numpy as np\n",
        "\n",
        "def read_nii(file_name):\n",
        "    '''\n",
        "    Reads a NIfTI file and returns the data as a numpy array\n",
        "    '''\n",
        "\n",
        "    # reads the NIfTI file\n",
        "    nii_file = nib.load(file_name)\n",
        "\n",
        "    # Access the data\n",
        "    data = nii_file.get_fdata()\n",
        "    return data\n",
        "\n",
        "\n",
        "def normalize_nii_for_pil(array):\n",
        "  # Normalize the array to 0-255\n",
        "  array_normalized = (array - array.min()) / (array.max() - array.min()) * 255\n",
        "\n",
        "  # Convert to uint8\n",
        "  array_uint8 = array_normalized.astype(np.uint8)\n",
        "\n",
        "  return array_uint8"
      ],
      "metadata": {
        "id": "Nqhp6hWMiinf"
      },
      "execution_count": 45,
      "outputs": []
    },
    {
      "cell_type": "code",
      "source": [
        "def find_slice_with_max_mask_area(mask_data):\n",
        "        '''\n",
        "        Function to display the slice with the largest affected\n",
        "        area of the original MRI scan together with slice of segmentation mask\n",
        "\n",
        "        Args:\n",
        "            mask_data (numpy array): segmentation mask (already loaded from NIfTI file)\n",
        "        Returns:\n",
        "            None\n",
        "        '''\n",
        "\n",
        "        # Initialize variables to track the largest slice\n",
        "        max_non_black_count = 0\n",
        "        max_slice_index = 0\n",
        "\n",
        "        # Iterate through each slice in the mask\n",
        "        for i in range(mask_data.shape[2]):\n",
        "            # Count non-black (non-zero) pixels in the slice\n",
        "            non_black_count = np.count_nonzero(mask_data[:, :, i])\n",
        "\n",
        "            # Update max count and slice index if current slice has more non-black pixels\n",
        "            if non_black_count > max_non_black_count:\n",
        "                max_non_black_count = non_black_count\n",
        "                max_slice_index = i\n",
        "\n",
        "        ## Get bounding-box from mask\n",
        "        mask_array = mask_data[:,:,max_slice_index]\n",
        "        # Identifying the indices of non-zero elements\n",
        "        non_zero_indices = np.argwhere(mask_array != 0)\n",
        "\n",
        "        return max_slice_index"
      ],
      "metadata": {
        "id": "6Js6GXMy8j1R"
      },
      "execution_count": 46,
      "outputs": []
    },
    {
      "cell_type": "code",
      "source": [
        "len(os.listdir('/mnt/gs/brats-image-files-eu/ASNR-MICCAI-BraTS2023-GLI-Challenge-TrainingData'))"
      ],
      "metadata": {
        "colab": {
          "base_uri": "https://localhost:8080/"
        },
        "id": "CKF2xgpX5QCJ",
        "outputId": "3b4299aa-78fe-4756-d3e2-0d71db31ace8"
      },
      "execution_count": 47,
      "outputs": [
        {
          "output_type": "execute_result",
          "data": {
            "text/plain": [
              "1251"
            ]
          },
          "metadata": {},
          "execution_count": 47
        }
      ]
    },
    {
      "cell_type": "code",
      "source": [
        "len(os.listdir('/mnt/gs/brats-image-files-eu/ASNR-MICCAI-BraTS2023-MET-Challenge-TrainingData'))"
      ],
      "metadata": {
        "colab": {
          "base_uri": "https://localhost:8080/"
        },
        "id": "GiCqGYSO5ZRi",
        "outputId": "8996a7be-f0f4-448d-8f49-043345e694ce"
      },
      "execution_count": 48,
      "outputs": [
        {
          "output_type": "execute_result",
          "data": {
            "text/plain": [
              "165"
            ]
          },
          "metadata": {},
          "execution_count": 48
        }
      ]
    },
    {
      "cell_type": "code",
      "source": [
        "len(os.listdir('/mnt/gs/brats-image-files-eu/BraTS-MEN-Train'))"
      ],
      "metadata": {
        "colab": {
          "base_uri": "https://localhost:8080/"
        },
        "id": "ZTBdJVFp5gmr",
        "outputId": "9f5f2f72-3c9e-4bcc-8dc4-974b0b72dfbb"
      },
      "execution_count": 49,
      "outputs": [
        {
          "output_type": "execute_result",
          "data": {
            "text/plain": [
              "1000"
            ]
          },
          "metadata": {},
          "execution_count": 49
        }
      ]
    },
    {
      "cell_type": "code",
      "source": [
        "import os\n",
        "from pathlib import Path\n",
        "parent_folder = Path('/mnt/gs/brats-image-files-eu')\n",
        "\n",
        "dataset_folders = os.listdir(parent_folder)"
      ],
      "metadata": {
        "id": "RY5JGSDOGcBB"
      },
      "execution_count": 50,
      "outputs": []
    },
    {
      "cell_type": "code",
      "source": [
        "modalities = ['t1', 't2', 'flair', 't1c']\n",
        "patient_folders = os.listdir(parent_folder / dataset_folders[0])\n",
        "filename = Path(patient_folders[0]) / f'{patient_folders[0]}_raw_cutout_{modalities[0]}.png'\n",
        "parent_folder / dataset_folders[0] / patient_folders[0] / 'png' / filename"
      ],
      "metadata": {
        "colab": {
          "base_uri": "https://localhost:8080/"
        },
        "id": "mxfa-Q8OHlcO",
        "outputId": "c7f7e50f-b149-48ba-8fd7-4f88c384831a"
      },
      "execution_count": 51,
      "outputs": [
        {
          "output_type": "execute_result",
          "data": {
            "text/plain": [
              "PosixPath('/mnt/gs/brats-image-files-eu/ASNR-MICCAI-BraTS2023-GLI-Challenge-TrainingData/BraTS-GLI-00000-000/png/BraTS-GLI-00000-000/BraTS-GLI-00000-000_raw_cutout_t1.png')"
            ]
          },
          "metadata": {},
          "execution_count": 51
        }
      ]
    },
    {
      "cell_type": "markdown",
      "source": [
        "# Generate embeddings"
      ],
      "metadata": {
        "id": "FDLzZbkCHUQT"
      }
    },
    {
      "cell_type": "code",
      "source": [
        "# https://github.com/christiansafka/img2vec\n",
        "import torch\n",
        "import torch.nn as nn\n",
        "import torchvision.models as models\n",
        "import torchvision.transforms as transforms\n",
        "import numpy as np\n",
        "\n",
        "class Img2Vec():\n",
        "    RESNET_OUTPUT_SIZES = {\n",
        "        'resnet18': 512,\n",
        "        'resnet34': 512,\n",
        "        'resnet50': 2048,\n",
        "        'resnet101': 2048,\n",
        "        'resnet152': 2048,\n",
        "    }\n",
        "\n",
        "    def __init__(self, cuda=False, model='resnet-34', layer='default',\n",
        "                 layer_output_size=512):\n",
        "        \"\"\" Img2Vec\n",
        "        :param cuda: If set to True, will run forward pass on GPU\n",
        "        :param model: String name of requested model\n",
        "        :param layer: String or Int depending on model.  See more docs: https://github.com/christiansafka/img2vec.git\n",
        "        :param layer_output_size: Int depicting the output size of the requested layer\n",
        "        \"\"\"\n",
        "        self.device = torch.device(\"cuda\" if cuda else \"cpu\")\n",
        "        self.layer_output_size = layer_output_size\n",
        "        self.model_name = model\n",
        "\n",
        "        self.model, self.extraction_layer = self._get_model_and_layer(model, layer)\n",
        "\n",
        "        self.model = self.model.to(self.device)\n",
        "\n",
        "        self.model.eval()\n",
        "\n",
        "        self.scaler = transforms.Resize((224, 224))\n",
        "        self.normalize = transforms.Normalize(mean=[0.485, 0.456, 0.406],\n",
        "                                              std=[0.229, 0.224, 0.225])\n",
        "        self.to_tensor = transforms.ToTensor()\n",
        "\n",
        "    def get_vec(self, img, tensor=False):\n",
        "        \"\"\" Get vector embedding from PIL image\n",
        "        :param img: PIL Image or list of PIL Images\n",
        "        :param tensor: If True, get_vec will return a FloatTensor instead of Numpy array\n",
        "        :returns: Numpy ndarray\n",
        "        \"\"\"\n",
        "        if type(img) == list:\n",
        "            a = [self.normalize(self.to_tensor(self.scaler(im))) for im in img]\n",
        "            images = torch.stack(a).to(self.device)\n",
        "            if self.model_name == 'alexnet':\n",
        "                my_embedding = torch.zeros(len(img), self.layer_output_size)\n",
        "            else:\n",
        "                my_embedding = torch.zeros(len(img), self.layer_output_size, 1, 1)\n",
        "\n",
        "            def copy_data(m, i, o):\n",
        "                my_embedding.copy_(o.data)\n",
        "\n",
        "            h = self.extraction_layer.register_forward_hook(copy_data)\n",
        "            h_x = self.model(images)\n",
        "            h.remove()\n",
        "\n",
        "            if tensor:\n",
        "                return my_embedding\n",
        "            else:\n",
        "                if self.model_name == 'alexnet':\n",
        "                    return my_embedding.numpy()[:, :]\n",
        "                else:\n",
        "                    return my_embedding.numpy()[:, :, 0, 0]\n",
        "        else:\n",
        "            image = self.normalize(self.to_tensor(self.scaler(img))).unsqueeze(0).to(self.device)\n",
        "\n",
        "            if self.model_name == 'alexnet':\n",
        "                my_embedding = torch.zeros(1, self.layer_output_size)\n",
        "            else:\n",
        "                my_embedding = torch.zeros(1, self.layer_output_size, 1, 1)\n",
        "\n",
        "            def copy_data(m, i, o):\n",
        "                my_embedding.copy_(o.data)\n",
        "\n",
        "            h = self.extraction_layer.register_forward_hook(copy_data)\n",
        "            h_x = self.model(image)\n",
        "            h.remove()\n",
        "\n",
        "            if tensor:\n",
        "                return my_embedding\n",
        "            else:\n",
        "                if self.model_name == 'alexnet':\n",
        "                    return my_embedding.numpy()[0, :]\n",
        "                else:\n",
        "                    return my_embedding.numpy()[0, :, 0, 0]\n",
        "\n",
        "    def _get_model_and_layer(self, model_name, layer):\n",
        "        \"\"\" Internal method for getting layer from model\n",
        "        :param model_name: model name such as 'resnet-18'\n",
        "        :param layer: layer as a string for resnet-18 or int for alexnet\n",
        "        :returns: pytorch model, selected layer\n",
        "        \"\"\"\n",
        "\n",
        "        if model_name.startswith('resnet') and not model_name.startswith('resnet-'):\n",
        "            model = getattr(models, model_name)(pretrained=True)\n",
        "            if layer == 'default':\n",
        "                layer = model._modules.get('avgpool')\n",
        "                self.layer_output_size = self.RESNET_OUTPUT_SIZES[model_name]\n",
        "            else:\n",
        "                layer = model._modules.get(layer)\n",
        "            return model, layer\n",
        "        elif model_name == 'resnet-34':\n",
        "            model = models.resnet34(pretrained=True)\n",
        "            if layer == 'default':\n",
        "                layer = model._modules.get('avgpool')\n",
        "                self.layer_output_size = 512\n",
        "            else:\n",
        "                layer = model._modules.get(layer)\n",
        "\n",
        "            return model, layer\n",
        "\n",
        "        elif model_name == 'alexnet':\n",
        "            model = models.alexnet(pretrained=True)\n",
        "            if layer == 'default':\n",
        "                layer = model.classifier[-2]\n",
        "                self.layer_output_size = 4096\n",
        "            else:\n",
        "                layer = model.classifier[-layer]\n",
        "\n",
        "            return model, layer\n",
        "\n",
        "        else:\n",
        "            raise KeyError('Model %s was not found' % model_name)"
      ],
      "metadata": {
        "id": "LN-6FSKSc6xf"
      },
      "execution_count": 52,
      "outputs": []
    },
    {
      "cell_type": "code",
      "source": [
        "# Initialize\n",
        "img2vec152 = Img2Vec(model='resnet152')"
      ],
      "metadata": {
        "id": "1IiUbQtWjuBW",
        "colab": {
          "base_uri": "https://localhost:8080/"
        },
        "outputId": "bea1748a-f8c6-463e-fbce-3c4ed5ced6ef"
      },
      "execution_count": 53,
      "outputs": [
        {
          "output_type": "stream",
          "name": "stderr",
          "text": [
            "/usr/local/lib/python3.10/dist-packages/torchvision/models/_utils.py:208: UserWarning: The parameter 'pretrained' is deprecated since 0.13 and may be removed in the future, please use 'weights' instead.\n",
            "  warnings.warn(\n",
            "/usr/local/lib/python3.10/dist-packages/torchvision/models/_utils.py:223: UserWarning: Arguments other than a weight enum or `None` for 'weights' are deprecated since 0.13 and may be removed in the future. The current behavior is equivalent to passing `weights=ResNet152_Weights.IMAGENET1K_V1`. You can also use `weights=ResNet152_Weights.DEFAULT` to get the most up-to-date weights.\n",
            "  warnings.warn(msg)\n"
          ]
        }
      ]
    },
    {
      "cell_type": "markdown",
      "source": [
        "## Long generation process"
      ],
      "metadata": {
        "id": "fVOdqEJAsdLX"
      }
    },
    {
      "cell_type": "code",
      "source": [
        "from PIL import Image\n",
        "def get_cutout(data, mask, slice_number):\n",
        "  return data[:, :, slice_number] * mask[:, :, slice_number]\n",
        "\n",
        "def png_cutout_save_path(patient_name, modality):\n",
        "  return f'{patient_name}_{modality}_raw_cutout.png'\n",
        "\n",
        "image_embeddings = {}\n",
        "\n",
        "for dataset_folder in os.listdir(parent_folder):\n",
        "  for patient_folder in os.listdir(parent_folder / dataset_folder):\n",
        "    for patient_files in os.listdir(parent_folder / dataset_folder / patient_folder):\n",
        "        full_path_patient_folder = parent_folder / dataset_folder / patient_folder\n",
        "        seg_filename = f'{str(patient_folder)}-seg.nii.gz'\n",
        "        t1_filename = f'{str(patient_folder)}-t1n.nii.gz'\n",
        "        t1_gad_filename = f'{str(patient_folder)}-t1c.nii.gz'\n",
        "        t2_filename = f'{str(patient_folder)}-t2w.nii.gz'\n",
        "        flair_filename = f'{str(patient_folder)}-t2f.nii.gz'\n",
        "\n",
        "        seg_data =    (read_nii(full_path_patient_folder / seg_filename) >=1).astype(np.uint8)\n",
        "        seg_data_w_levels =    read_nii(full_path_patient_folder / seg_filename).astype(np.uint8)\n",
        "\n",
        "\n",
        "        t1_data =     normalize_nii_for_pil(read_nii(full_path_patient_folder / t1_filename))\n",
        "        t2_data =     normalize_nii_for_pil(read_nii(full_path_patient_folder / t2_filename))\n",
        "        t1_gad_data = normalize_nii_for_pil(read_nii(full_path_patient_folder / t1_gad_filename))\n",
        "        flair_data =  normalize_nii_for_pil(read_nii(full_path_patient_folder / flair_filename))\n",
        "\n",
        "        slice_index = find_slice_with_max_mask_area(seg_data)\n",
        "\n",
        "        flair_cutout = Image.fromarray(get_cutout(flair_data, seg_data, slice_index)).convert('RGB')\n",
        "        t1_cutout = Image.fromarray(get_cutout(t1_data, seg_data, slice_index)).convert('RGB')\n",
        "        t2_cutout = Image.fromarray(get_cutout(t2_data, seg_data, slice_index)).convert('RGB')\n",
        "        t1_gad_cutout = Image.fromarray(get_cutout(t1_gad_data, seg_data, slice_index)).convert('RGB')\n",
        "\n",
        "       #generate embeddings and store in dictionary here\n",
        "        image_embeddings[full_path_patient_folder / 'png'/png_cutout_save_path(patient_folder, 'flair')] = img2vec152.get_vec(flair_cutout)\n",
        "        image_embeddings[full_path_patient_folder / 'png'/png_cutout_save_path(patient_folder, 't1')] = img2vec152.get_vec(t1_cutout)\n",
        "        image_embeddings[full_path_patient_folder / 'png'/png_cutout_save_path(patient_folder, 't1c')] = img2vec152.get_vec(t1_gad_cutout)\n",
        "        image_embeddings[full_path_patient_folder / 'png'/png_cutout_save_path(patient_folder, 't2')] = img2vec152.get_vec(t2_cutout)\n",
        "\n",
        "        # delete breaks to make notebook run\n",
        "        break\n",
        "    break\n",
        "  break"
      ],
      "metadata": {
        "id": "2VDse6uDZ9od"
      },
      "execution_count": 54,
      "outputs": []
    },
    {
      "cell_type": "code",
      "source": [
        "Image.open(list(image_embeddings.keys())[0])"
      ],
      "metadata": {
        "colab": {
          "base_uri": "https://localhost:8080/",
          "height": 257
        },
        "id": "8eqJ4s0jktYJ",
        "outputId": "7640ba42-26dc-4841-9285-950ae0476482"
      },
      "execution_count": 55,
      "outputs": [
        {
          "output_type": "execute_result",
          "data": {
            "text/plain": [
              "<PIL.PngImagePlugin.PngImageFile image mode=RGB size=240x240>"
            ],
            "image/png": "[encoded data removed]"
          },
          "metadata": {},
          "execution_count": 55
        }
      ]
    },
    {
      "cell_type": "code",
      "source": [
        "list(image_embeddings.values())[0]"
      ],
      "metadata": {
        "colab": {
          "base_uri": "https://localhost:8080/"
        },
        "id": "nmjV5qQ3suki",
        "outputId": "f439791f-e9af-4bb7-c9e1-eac7e28197de"
      },
      "execution_count": 57,
      "outputs": [
        {
          "output_type": "execute_result",
          "data": {
            "text/plain": [
              "array([0.35618728, 0.34230423, 0.09550171, ..., 0.03066884, 0.72184193,\n",
              "       0.16519433], dtype=float32)"
            ]
          },
          "metadata": {},
          "execution_count": 57
        }
      ]
    },
    {
      "cell_type": "code",
      "source": [
        "\n",
        "import pickle\n",
        "with open('/mnt/gs/picture_embeddings/imagenet_resnets/raw_cutouts_imagenet_152_embeddings.pickle', 'wb') as handle:\n",
        "  pickle.dump(image_embeddings, handle, protocol = pickle.HIGHEST_PROTOCOL )"
      ],
      "metadata": {
        "id": "-LPw49hWAUeu"
      },
      "execution_count": 56,
      "outputs": []
    }
  ]
}